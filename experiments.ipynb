{
 "cells": [
  {
   "cell_type": "code",
   "execution_count": 1,
   "id": "22e54d82",
   "metadata": {},
   "outputs": [],
   "source": [
    "import warnings\n",
    "warnings.filterwarnings('ignore')"
   ]
  },
  {
   "cell_type": "code",
   "execution_count": 2,
   "id": "7b267c98",
   "metadata": {},
   "outputs": [],
   "source": [
    "import pandas as pd \n",
    "from sklearn.model_selection import train_test_split\n",
    "from sklearn.preprocessing import StandardScaler , OneHotEncoder\n",
    "import pickle"
   ]
  },
  {
   "cell_type": "code",
   "execution_count": 3,
   "id": "5ba6a045",
   "metadata": {},
   "outputs": [],
   "source": [
    "# load Dataset\n",
    "data = pd.read_csv('Churn_Modelling.csv')"
   ]
  },
  {
   "cell_type": "code",
   "execution_count": 4,
   "id": "4df75d5b",
   "metadata": {},
   "outputs": [
    {
     "data": {
      "text/html": [
       "<div>\n",
       "<style scoped>\n",
       "    .dataframe tbody tr th:only-of-type {\n",
       "        vertical-align: middle;\n",
       "    }\n",
       "\n",
       "    .dataframe tbody tr th {\n",
       "        vertical-align: top;\n",
       "    }\n",
       "\n",
       "    .dataframe thead th {\n",
       "        text-align: right;\n",
       "    }\n",
       "</style>\n",
       "<table border=\"1\" class=\"dataframe\">\n",
       "  <thead>\n",
       "    <tr style=\"text-align: right;\">\n",
       "      <th></th>\n",
       "      <th>RowNumber</th>\n",
       "      <th>CustomerId</th>\n",
       "      <th>Surname</th>\n",
       "      <th>CreditScore</th>\n",
       "      <th>Geography</th>\n",
       "      <th>Gender</th>\n",
       "      <th>Age</th>\n",
       "      <th>Tenure</th>\n",
       "      <th>Balance</th>\n",
       "      <th>NumOfProducts</th>\n",
       "      <th>HasCrCard</th>\n",
       "      <th>IsActiveMember</th>\n",
       "      <th>EstimatedSalary</th>\n",
       "      <th>Exited</th>\n",
       "    </tr>\n",
       "  </thead>\n",
       "  <tbody>\n",
       "    <tr>\n",
       "      <th>0</th>\n",
       "      <td>1</td>\n",
       "      <td>15634602</td>\n",
       "      <td>Hargrave</td>\n",
       "      <td>619</td>\n",
       "      <td>France</td>\n",
       "      <td>Female</td>\n",
       "      <td>42</td>\n",
       "      <td>2</td>\n",
       "      <td>0.00</td>\n",
       "      <td>1</td>\n",
       "      <td>1</td>\n",
       "      <td>1</td>\n",
       "      <td>101348.88</td>\n",
       "      <td>1</td>\n",
       "    </tr>\n",
       "    <tr>\n",
       "      <th>1</th>\n",
       "      <td>2</td>\n",
       "      <td>15647311</td>\n",
       "      <td>Hill</td>\n",
       "      <td>608</td>\n",
       "      <td>Spain</td>\n",
       "      <td>Female</td>\n",
       "      <td>41</td>\n",
       "      <td>1</td>\n",
       "      <td>83807.86</td>\n",
       "      <td>1</td>\n",
       "      <td>0</td>\n",
       "      <td>1</td>\n",
       "      <td>112542.58</td>\n",
       "      <td>0</td>\n",
       "    </tr>\n",
       "    <tr>\n",
       "      <th>2</th>\n",
       "      <td>3</td>\n",
       "      <td>15619304</td>\n",
       "      <td>Onio</td>\n",
       "      <td>502</td>\n",
       "      <td>France</td>\n",
       "      <td>Female</td>\n",
       "      <td>42</td>\n",
       "      <td>8</td>\n",
       "      <td>159660.80</td>\n",
       "      <td>3</td>\n",
       "      <td>1</td>\n",
       "      <td>0</td>\n",
       "      <td>113931.57</td>\n",
       "      <td>1</td>\n",
       "    </tr>\n",
       "    <tr>\n",
       "      <th>3</th>\n",
       "      <td>4</td>\n",
       "      <td>15701354</td>\n",
       "      <td>Boni</td>\n",
       "      <td>699</td>\n",
       "      <td>France</td>\n",
       "      <td>Female</td>\n",
       "      <td>39</td>\n",
       "      <td>1</td>\n",
       "      <td>0.00</td>\n",
       "      <td>2</td>\n",
       "      <td>0</td>\n",
       "      <td>0</td>\n",
       "      <td>93826.63</td>\n",
       "      <td>0</td>\n",
       "    </tr>\n",
       "    <tr>\n",
       "      <th>4</th>\n",
       "      <td>5</td>\n",
       "      <td>15737888</td>\n",
       "      <td>Mitchell</td>\n",
       "      <td>850</td>\n",
       "      <td>Spain</td>\n",
       "      <td>Female</td>\n",
       "      <td>43</td>\n",
       "      <td>2</td>\n",
       "      <td>125510.82</td>\n",
       "      <td>1</td>\n",
       "      <td>1</td>\n",
       "      <td>1</td>\n",
       "      <td>79084.10</td>\n",
       "      <td>0</td>\n",
       "    </tr>\n",
       "    <tr>\n",
       "      <th>...</th>\n",
       "      <td>...</td>\n",
       "      <td>...</td>\n",
       "      <td>...</td>\n",
       "      <td>...</td>\n",
       "      <td>...</td>\n",
       "      <td>...</td>\n",
       "      <td>...</td>\n",
       "      <td>...</td>\n",
       "      <td>...</td>\n",
       "      <td>...</td>\n",
       "      <td>...</td>\n",
       "      <td>...</td>\n",
       "      <td>...</td>\n",
       "      <td>...</td>\n",
       "    </tr>\n",
       "    <tr>\n",
       "      <th>9995</th>\n",
       "      <td>9996</td>\n",
       "      <td>15606229</td>\n",
       "      <td>Obijiaku</td>\n",
       "      <td>771</td>\n",
       "      <td>France</td>\n",
       "      <td>Male</td>\n",
       "      <td>39</td>\n",
       "      <td>5</td>\n",
       "      <td>0.00</td>\n",
       "      <td>2</td>\n",
       "      <td>1</td>\n",
       "      <td>0</td>\n",
       "      <td>96270.64</td>\n",
       "      <td>0</td>\n",
       "    </tr>\n",
       "    <tr>\n",
       "      <th>9996</th>\n",
       "      <td>9997</td>\n",
       "      <td>15569892</td>\n",
       "      <td>Johnstone</td>\n",
       "      <td>516</td>\n",
       "      <td>France</td>\n",
       "      <td>Male</td>\n",
       "      <td>35</td>\n",
       "      <td>10</td>\n",
       "      <td>57369.61</td>\n",
       "      <td>1</td>\n",
       "      <td>1</td>\n",
       "      <td>1</td>\n",
       "      <td>101699.77</td>\n",
       "      <td>0</td>\n",
       "    </tr>\n",
       "    <tr>\n",
       "      <th>9997</th>\n",
       "      <td>9998</td>\n",
       "      <td>15584532</td>\n",
       "      <td>Liu</td>\n",
       "      <td>709</td>\n",
       "      <td>France</td>\n",
       "      <td>Female</td>\n",
       "      <td>36</td>\n",
       "      <td>7</td>\n",
       "      <td>0.00</td>\n",
       "      <td>1</td>\n",
       "      <td>0</td>\n",
       "      <td>1</td>\n",
       "      <td>42085.58</td>\n",
       "      <td>1</td>\n",
       "    </tr>\n",
       "    <tr>\n",
       "      <th>9998</th>\n",
       "      <td>9999</td>\n",
       "      <td>15682355</td>\n",
       "      <td>Sabbatini</td>\n",
       "      <td>772</td>\n",
       "      <td>Germany</td>\n",
       "      <td>Male</td>\n",
       "      <td>42</td>\n",
       "      <td>3</td>\n",
       "      <td>75075.31</td>\n",
       "      <td>2</td>\n",
       "      <td>1</td>\n",
       "      <td>0</td>\n",
       "      <td>92888.52</td>\n",
       "      <td>1</td>\n",
       "    </tr>\n",
       "    <tr>\n",
       "      <th>9999</th>\n",
       "      <td>10000</td>\n",
       "      <td>15628319</td>\n",
       "      <td>Walker</td>\n",
       "      <td>792</td>\n",
       "      <td>France</td>\n",
       "      <td>Female</td>\n",
       "      <td>28</td>\n",
       "      <td>4</td>\n",
       "      <td>130142.79</td>\n",
       "      <td>1</td>\n",
       "      <td>1</td>\n",
       "      <td>0</td>\n",
       "      <td>38190.78</td>\n",
       "      <td>0</td>\n",
       "    </tr>\n",
       "  </tbody>\n",
       "</table>\n",
       "<p>10000 rows × 14 columns</p>\n",
       "</div>"
      ],
      "text/plain": [
       "      RowNumber  CustomerId    Surname  CreditScore Geography  Gender  Age  \\\n",
       "0             1    15634602   Hargrave          619    France  Female   42   \n",
       "1             2    15647311       Hill          608     Spain  Female   41   \n",
       "2             3    15619304       Onio          502    France  Female   42   \n",
       "3             4    15701354       Boni          699    France  Female   39   \n",
       "4             5    15737888   Mitchell          850     Spain  Female   43   \n",
       "...         ...         ...        ...          ...       ...     ...  ...   \n",
       "9995       9996    15606229   Obijiaku          771    France    Male   39   \n",
       "9996       9997    15569892  Johnstone          516    France    Male   35   \n",
       "9997       9998    15584532        Liu          709    France  Female   36   \n",
       "9998       9999    15682355  Sabbatini          772   Germany    Male   42   \n",
       "9999      10000    15628319     Walker          792    France  Female   28   \n",
       "\n",
       "      Tenure    Balance  NumOfProducts  HasCrCard  IsActiveMember  \\\n",
       "0          2       0.00              1          1               1   \n",
       "1          1   83807.86              1          0               1   \n",
       "2          8  159660.80              3          1               0   \n",
       "3          1       0.00              2          0               0   \n",
       "4          2  125510.82              1          1               1   \n",
       "...      ...        ...            ...        ...             ...   \n",
       "9995       5       0.00              2          1               0   \n",
       "9996      10   57369.61              1          1               1   \n",
       "9997       7       0.00              1          0               1   \n",
       "9998       3   75075.31              2          1               0   \n",
       "9999       4  130142.79              1          1               0   \n",
       "\n",
       "      EstimatedSalary  Exited  \n",
       "0           101348.88       1  \n",
       "1           112542.58       0  \n",
       "2           113931.57       1  \n",
       "3            93826.63       0  \n",
       "4            79084.10       0  \n",
       "...               ...     ...  \n",
       "9995         96270.64       0  \n",
       "9996        101699.77       0  \n",
       "9997         42085.58       1  \n",
       "9998         92888.52       1  \n",
       "9999         38190.78       0  \n",
       "\n",
       "[10000 rows x 14 columns]"
      ]
     },
     "execution_count": 4,
     "metadata": {},
     "output_type": "execute_result"
    }
   ],
   "source": [
    "data"
   ]
  },
  {
   "cell_type": "code",
   "execution_count": 5,
   "id": "42defbcd",
   "metadata": {},
   "outputs": [
    {
     "data": {
      "text/plain": [
       "<bound method NDFrame.head of       CreditScore Geography  Gender  Age  Tenure    Balance  NumOfProducts  \\\n",
       "0             619    France  Female   42       2       0.00              1   \n",
       "1             608     Spain  Female   41       1   83807.86              1   \n",
       "2             502    France  Female   42       8  159660.80              3   \n",
       "3             699    France  Female   39       1       0.00              2   \n",
       "4             850     Spain  Female   43       2  125510.82              1   \n",
       "...           ...       ...     ...  ...     ...        ...            ...   \n",
       "9995          771    France    Male   39       5       0.00              2   \n",
       "9996          516    France    Male   35      10   57369.61              1   \n",
       "9997          709    France  Female   36       7       0.00              1   \n",
       "9998          772   Germany    Male   42       3   75075.31              2   \n",
       "9999          792    France  Female   28       4  130142.79              1   \n",
       "\n",
       "      HasCrCard  IsActiveMember  EstimatedSalary  Exited  \n",
       "0             1               1        101348.88       1  \n",
       "1             0               1        112542.58       0  \n",
       "2             1               0        113931.57       1  \n",
       "3             0               0         93826.63       0  \n",
       "4             1               1         79084.10       0  \n",
       "...         ...             ...              ...     ...  \n",
       "9995          1               0         96270.64       0  \n",
       "9996          1               1        101699.77       0  \n",
       "9997          0               1         42085.58       1  \n",
       "9998          1               0         92888.52       1  \n",
       "9999          1               0         38190.78       0  \n",
       "\n",
       "[10000 rows x 11 columns]>"
      ]
     },
     "execution_count": 5,
     "metadata": {},
     "output_type": "execute_result"
    }
   ],
   "source": [
    "## row number , customer id , surname are not required for prediction so we will drop these columns\n",
    "data = data.drop(['RowNumber','CustomerId','Surname'],axis=1)\n",
    "data.head"
   ]
  },
  {
   "cell_type": "code",
   "execution_count": 6,
   "id": "1b7e38bc",
   "metadata": {},
   "outputs": [],
   "source": [
    "from sklearn.compose import ColumnTransformer\n",
    "\n",
    "encoder =  OneHotEncoder(sparse_output=False, drop='first')\n",
    "scaler = StandardScaler()\n",
    "\n",
    "target = \"Exited\"\n",
    "\n",
    "cat_features = [col for col in data.columns if data[col].dtype == 'object' and col != target]\n",
    "num_features = [col for col in data.columns if data[col].dtype != 'object' and col != target]\n",
    "\n",
    "\n",
    "preprocessor = ColumnTransformer(\n",
    "    transformers=[\n",
    "        ('num', scaler, num_features),\n",
    "        ('cat', encoder, cat_features)\n",
    "    ]\n",
    ")"
   ]
  },
  {
   "cell_type": "code",
   "execution_count": 7,
   "id": "7f2a0a61",
   "metadata": {},
   "outputs": [],
   "source": [
    "## dividing the data into features and target\n",
    "X = data.drop('Exited', axis=1)\n",
    "y = data['Exited']\n",
    "\n",
    "X_train, X_test, y_train, y_test = train_test_split(X, y, test_size=0.2, random_state=42)\n",
    "\n",
    "X_train_transformed = preprocessor.fit_transform(X_train)\n",
    "X_test_transformed = preprocessor.transform(X_test)"
   ]
  },
  {
   "cell_type": "code",
   "execution_count": 8,
   "id": "e60a2eef",
   "metadata": {},
   "outputs": [],
   "source": [
    "## Saving the preprocessor object to a file using pickle\n",
    "with open('preprocessor.pkl', 'wb') as f:\n",
    "    pickle.dump(preprocessor, f)"
   ]
  },
  {
   "cell_type": "markdown",
   "id": "640a9984",
   "metadata": {},
   "source": [
    "## ANN MODEL \n"
   ]
  },
  {
   "cell_type": "code",
   "execution_count": 9,
   "id": "4f17e07c",
   "metadata": {},
   "outputs": [
    {
     "data": {
      "text/plain": [
       "['Requirement already satisfied: tensorflow in c:\\\\users\\\\rushi\\\\appdata\\\\local\\\\programs\\\\python\\\\python313\\\\lib\\\\site-packages (2.20.0)',\n",
       " 'Requirement already satisfied: absl-py>=1.0.0 in c:\\\\users\\\\rushi\\\\appdata\\\\local\\\\programs\\\\python\\\\python313\\\\lib\\\\site-packages (from tensorflow) (2.3.1)',\n",
       " 'Requirement already satisfied: astunparse>=1.6.0 in c:\\\\users\\\\rushi\\\\appdata\\\\local\\\\programs\\\\python\\\\python313\\\\lib\\\\site-packages (from tensorflow) (1.6.3)',\n",
       " 'Requirement already satisfied: flatbuffers>=24.3.25 in c:\\\\users\\\\rushi\\\\appdata\\\\local\\\\programs\\\\python\\\\python313\\\\lib\\\\site-packages (from tensorflow) (25.2.10)',\n",
       " 'Requirement already satisfied: gast!=0.5.0,!=0.5.1,!=0.5.2,>=0.2.1 in c:\\\\users\\\\rushi\\\\appdata\\\\local\\\\programs\\\\python\\\\python313\\\\lib\\\\site-packages (from tensorflow) (0.6.0)',\n",
       " 'Requirement already satisfied: google_pasta>=0.1.1 in c:\\\\users\\\\rushi\\\\appdata\\\\local\\\\programs\\\\python\\\\python313\\\\lib\\\\site-packages (from tensorflow) (0.2.0)',\n",
       " 'Requirement already satisfied: libclang>=13.0.0 in c:\\\\users\\\\rushi\\\\appdata\\\\local\\\\programs\\\\python\\\\python313\\\\lib\\\\site-packages (from tensorflow) (18.1.1)',\n",
       " 'Requirement already satisfied: opt_einsum>=2.3.2 in c:\\\\users\\\\rushi\\\\appdata\\\\local\\\\programs\\\\python\\\\python313\\\\lib\\\\site-packages (from tensorflow) (3.4.0)',\n",
       " 'Requirement already satisfied: packaging in c:\\\\users\\\\rushi\\\\appdata\\\\roaming\\\\python\\\\python313\\\\site-packages (from tensorflow) (25.0)',\n",
       " 'Requirement already satisfied: protobuf>=5.28.0 in c:\\\\users\\\\rushi\\\\appdata\\\\local\\\\programs\\\\python\\\\python313\\\\lib\\\\site-packages (from tensorflow) (6.32.0)',\n",
       " 'Requirement already satisfied: requests<3,>=2.21.0 in c:\\\\users\\\\rushi\\\\appdata\\\\local\\\\programs\\\\python\\\\python313\\\\lib\\\\site-packages (from tensorflow) (2.32.5)',\n",
       " 'Requirement already satisfied: setuptools in c:\\\\users\\\\rushi\\\\appdata\\\\local\\\\programs\\\\python\\\\python313\\\\lib\\\\site-packages (from tensorflow) (80.9.0)',\n",
       " 'Requirement already satisfied: six>=1.12.0 in c:\\\\users\\\\rushi\\\\appdata\\\\roaming\\\\python\\\\python313\\\\site-packages (from tensorflow) (1.17.0)',\n",
       " 'Requirement already satisfied: termcolor>=1.1.0 in c:\\\\users\\\\rushi\\\\appdata\\\\local\\\\programs\\\\python\\\\python313\\\\lib\\\\site-packages (from tensorflow) (3.1.0)',\n",
       " 'Requirement already satisfied: typing_extensions>=3.6.6 in c:\\\\users\\\\rushi\\\\appdata\\\\local\\\\programs\\\\python\\\\python313\\\\lib\\\\site-packages (from tensorflow) (4.15.0)',\n",
       " 'Requirement already satisfied: wrapt>=1.11.0 in c:\\\\users\\\\rushi\\\\appdata\\\\local\\\\programs\\\\python\\\\python313\\\\lib\\\\site-packages (from tensorflow) (1.17.3)',\n",
       " 'Requirement already satisfied: grpcio<2.0,>=1.24.3 in c:\\\\users\\\\rushi\\\\appdata\\\\local\\\\programs\\\\python\\\\python313\\\\lib\\\\site-packages (from tensorflow) (1.74.0)',\n",
       " 'Requirement already satisfied: tensorboard~=2.20.0 in c:\\\\users\\\\rushi\\\\appdata\\\\local\\\\programs\\\\python\\\\python313\\\\lib\\\\site-packages (from tensorflow) (2.20.0)',\n",
       " 'Requirement already satisfied: keras>=3.10.0 in c:\\\\users\\\\rushi\\\\appdata\\\\local\\\\programs\\\\python\\\\python313\\\\lib\\\\site-packages (from tensorflow) (3.11.3)',\n",
       " 'Requirement already satisfied: numpy>=1.26.0 in c:\\\\users\\\\rushi\\\\appdata\\\\local\\\\programs\\\\python\\\\python313\\\\lib\\\\site-packages (from tensorflow) (2.3.2)',\n",
       " 'Requirement already satisfied: h5py>=3.11.0 in c:\\\\users\\\\rushi\\\\appdata\\\\local\\\\programs\\\\python\\\\python313\\\\lib\\\\site-packages (from tensorflow) (3.14.0)',\n",
       " 'Requirement already satisfied: ml_dtypes<1.0.0,>=0.5.1 in c:\\\\users\\\\rushi\\\\appdata\\\\local\\\\programs\\\\python\\\\python313\\\\lib\\\\site-packages (from tensorflow) (0.5.3)',\n",
       " 'Requirement already satisfied: charset_normalizer<4,>=2 in c:\\\\users\\\\rushi\\\\appdata\\\\local\\\\programs\\\\python\\\\python313\\\\lib\\\\site-packages (from requests<3,>=2.21.0->tensorflow) (3.4.3)',\n",
       " 'Requirement already satisfied: idna<4,>=2.5 in c:\\\\users\\\\rushi\\\\appdata\\\\local\\\\programs\\\\python\\\\python313\\\\lib\\\\site-packages (from requests<3,>=2.21.0->tensorflow) (3.10)',\n",
       " 'Requirement already satisfied: urllib3<3,>=1.21.1 in c:\\\\users\\\\rushi\\\\appdata\\\\local\\\\programs\\\\python\\\\python313\\\\lib\\\\site-packages (from requests<3,>=2.21.0->tensorflow) (2.5.0)',\n",
       " 'Requirement already satisfied: certifi>=2017.4.17 in c:\\\\users\\\\rushi\\\\appdata\\\\local\\\\programs\\\\python\\\\python313\\\\lib\\\\site-packages (from requests<3,>=2.21.0->tensorflow) (2025.8.3)',\n",
       " 'Requirement already satisfied: markdown>=2.6.8 in c:\\\\users\\\\rushi\\\\appdata\\\\local\\\\programs\\\\python\\\\python313\\\\lib\\\\site-packages (from tensorboard~=2.20.0->tensorflow) (3.8.2)',\n",
       " 'Requirement already satisfied: pillow in c:\\\\users\\\\rushi\\\\appdata\\\\local\\\\programs\\\\python\\\\python313\\\\lib\\\\site-packages (from tensorboard~=2.20.0->tensorflow) (11.3.0)',\n",
       " 'Requirement already satisfied: tensorboard-data-server<0.8.0,>=0.7.0 in c:\\\\users\\\\rushi\\\\appdata\\\\local\\\\programs\\\\python\\\\python313\\\\lib\\\\site-packages (from tensorboard~=2.20.0->tensorflow) (0.7.2)',\n",
       " 'Requirement already satisfied: werkzeug>=1.0.1 in c:\\\\users\\\\rushi\\\\appdata\\\\local\\\\programs\\\\python\\\\python313\\\\lib\\\\site-packages (from tensorboard~=2.20.0->tensorflow) (3.1.3)',\n",
       " 'Requirement already satisfied: wheel<1.0,>=0.23.0 in c:\\\\users\\\\rushi\\\\appdata\\\\local\\\\programs\\\\python\\\\python313\\\\lib\\\\site-packages (from astunparse>=1.6.0->tensorflow) (0.45.1)',\n",
       " 'Requirement already satisfied: rich in c:\\\\users\\\\rushi\\\\appdata\\\\local\\\\programs\\\\python\\\\python313\\\\lib\\\\site-packages (from keras>=3.10.0->tensorflow) (14.1.0)',\n",
       " 'Requirement already satisfied: namex in c:\\\\users\\\\rushi\\\\appdata\\\\local\\\\programs\\\\python\\\\python313\\\\lib\\\\site-packages (from keras>=3.10.0->tensorflow) (0.1.0)',\n",
       " 'Requirement already satisfied: optree in c:\\\\users\\\\rushi\\\\appdata\\\\local\\\\programs\\\\python\\\\python313\\\\lib\\\\site-packages (from keras>=3.10.0->tensorflow) (0.17.0)',\n",
       " 'Requirement already satisfied: MarkupSafe>=2.1.1 in c:\\\\users\\\\rushi\\\\appdata\\\\local\\\\programs\\\\python\\\\python313\\\\lib\\\\site-packages (from werkzeug>=1.0.1->tensorboard~=2.20.0->tensorflow) (3.0.2)',\n",
       " 'Requirement already satisfied: markdown-it-py>=2.2.0 in c:\\\\users\\\\rushi\\\\appdata\\\\local\\\\programs\\\\python\\\\python313\\\\lib\\\\site-packages (from rich->keras>=3.10.0->tensorflow) (4.0.0)',\n",
       " 'Requirement already satisfied: pygments<3.0.0,>=2.13.0 in c:\\\\users\\\\rushi\\\\appdata\\\\roaming\\\\python\\\\python313\\\\site-packages (from rich->keras>=3.10.0->tensorflow) (2.19.2)',\n",
       " 'Requirement already satisfied: mdurl~=0.1 in c:\\\\users\\\\rushi\\\\appdata\\\\local\\\\programs\\\\python\\\\python313\\\\lib\\\\site-packages (from markdown-it-py>=2.2.0->rich->keras>=3.10.0->tensorflow) (0.1.2)']"
      ]
     },
     "execution_count": 9,
     "metadata": {},
     "output_type": "execute_result"
    }
   ],
   "source": [
    "!!pip install tensorflow"
   ]
  },
  {
   "cell_type": "code",
   "execution_count": 10,
   "id": "40cf496a",
   "metadata": {},
   "outputs": [
    {
     "data": {
      "text/plain": [
       "['Requirement already satisfied: keras in c:\\\\users\\\\rushi\\\\appdata\\\\local\\\\programs\\\\python\\\\python313\\\\lib\\\\site-packages (3.11.3)',\n",
       " 'Requirement already satisfied: absl-py in c:\\\\users\\\\rushi\\\\appdata\\\\local\\\\programs\\\\python\\\\python313\\\\lib\\\\site-packages (from keras) (2.3.1)',\n",
       " 'Requirement already satisfied: numpy in c:\\\\users\\\\rushi\\\\appdata\\\\local\\\\programs\\\\python\\\\python313\\\\lib\\\\site-packages (from keras) (2.3.2)',\n",
       " 'Requirement already satisfied: rich in c:\\\\users\\\\rushi\\\\appdata\\\\local\\\\programs\\\\python\\\\python313\\\\lib\\\\site-packages (from keras) (14.1.0)',\n",
       " 'Requirement already satisfied: namex in c:\\\\users\\\\rushi\\\\appdata\\\\local\\\\programs\\\\python\\\\python313\\\\lib\\\\site-packages (from keras) (0.1.0)',\n",
       " 'Requirement already satisfied: h5py in c:\\\\users\\\\rushi\\\\appdata\\\\local\\\\programs\\\\python\\\\python313\\\\lib\\\\site-packages (from keras) (3.14.0)',\n",
       " 'Requirement already satisfied: optree in c:\\\\users\\\\rushi\\\\appdata\\\\local\\\\programs\\\\python\\\\python313\\\\lib\\\\site-packages (from keras) (0.17.0)',\n",
       " 'Requirement already satisfied: ml-dtypes in c:\\\\users\\\\rushi\\\\appdata\\\\local\\\\programs\\\\python\\\\python313\\\\lib\\\\site-packages (from keras) (0.5.3)',\n",
       " 'Requirement already satisfied: packaging in c:\\\\users\\\\rushi\\\\appdata\\\\roaming\\\\python\\\\python313\\\\site-packages (from keras) (25.0)',\n",
       " 'Requirement already satisfied: typing-extensions>=4.6.0 in c:\\\\users\\\\rushi\\\\appdata\\\\local\\\\programs\\\\python\\\\python313\\\\lib\\\\site-packages (from optree->keras) (4.15.0)',\n",
       " 'Requirement already satisfied: markdown-it-py>=2.2.0 in c:\\\\users\\\\rushi\\\\appdata\\\\local\\\\programs\\\\python\\\\python313\\\\lib\\\\site-packages (from rich->keras) (4.0.0)',\n",
       " 'Requirement already satisfied: pygments<3.0.0,>=2.13.0 in c:\\\\users\\\\rushi\\\\appdata\\\\roaming\\\\python\\\\python313\\\\site-packages (from rich->keras) (2.19.2)',\n",
       " 'Requirement already satisfied: mdurl~=0.1 in c:\\\\users\\\\rushi\\\\appdata\\\\local\\\\programs\\\\python\\\\python313\\\\lib\\\\site-packages (from markdown-it-py>=2.2.0->rich->keras) (0.1.2)']"
      ]
     },
     "execution_count": 10,
     "metadata": {},
     "output_type": "execute_result"
    }
   ],
   "source": [
    "!!pip install keras"
   ]
  },
  {
   "cell_type": "code",
   "execution_count": 11,
   "id": "7d3f5adc",
   "metadata": {},
   "outputs": [
    {
     "data": {
      "text/plain": [
       "(11,)"
      ]
     },
     "execution_count": 11,
     "metadata": {},
     "output_type": "execute_result"
    }
   ],
   "source": [
    "(X_test_transformed.shape[1],)"
   ]
  },
  {
   "cell_type": "code",
   "execution_count": 12,
   "id": "266e4376",
   "metadata": {},
   "outputs": [],
   "source": [
    "import tensorflow\n",
    "from tensorflow import keras\n",
    "from tensorflow.keras import layers\n",
    "from tensorflow.keras.models import Sequential\n",
    "from tensorflow.keras.layers import Dense, Dropout\n",
    "from tensorflow.keras.callbacks import EarlyStopping,TensorBoard\n",
    "\n",
    "\n",
    "# Define the model\n",
    "model = Sequential([\n",
    "    Dense(64, activation='relu', input_shape=(X_train_transformed.shape[1],)),       # Input shape -- First Hidden Layer --> (11,)\n",
    "    Dense(32, activation='relu'),        # -- Second Hidden Layer \n",
    "    Dense(1, activation='sigmoid')          # Output Layer\n",
    "])"
   ]
  },
  {
   "cell_type": "code",
   "execution_count": 13,
   "id": "f88f3206",
   "metadata": {},
   "outputs": [
    {
     "data": {
      "text/plain": [
       "[array([[ 0.27885446, -0.0572976 ,  0.09475839, -0.01218611, -0.23389392,\n",
       "         -0.19745657,  0.02509335,  0.10296738,  0.2613754 ,  0.2060718 ,\n",
       "          0.2790374 ,  0.07452837,  0.18454257, -0.12436011, -0.02255464,\n",
       "         -0.25674492, -0.15815994,  0.15395457,  0.06371835,  0.0082477 ,\n",
       "         -0.09420711,  0.2534397 ,  0.17913374,  0.03187665,  0.11307278,\n",
       "          0.03383213, -0.17059514, -0.02651638,  0.09484106,  0.16411397,\n",
       "         -0.19157907, -0.09068552,  0.12400115,  0.19508672, -0.02182797,\n",
       "         -0.12749442, -0.21778795, -0.15790212,  0.07885501, -0.02137905,\n",
       "         -0.26516223,  0.07244322,  0.00153974,  0.02300692,  0.06353661,\n",
       "          0.22154924, -0.05609848,  0.26093927, -0.04070941,  0.23718682,\n",
       "          0.17491457,  0.00756654,  0.02697244, -0.25206298, -0.2349641 ,\n",
       "         -0.2754098 , -0.03616874, -0.2750726 ,  0.05805847, -0.01249051,\n",
       "          0.14753312, -0.09073064,  0.18386582, -0.00997365],\n",
       "        [-0.08398944,  0.02849922, -0.14465319,  0.1459536 ,  0.26990625,\n",
       "          0.06052059,  0.16109174, -0.13268942,  0.13683033,  0.17115507,\n",
       "         -0.13044746, -0.10619731,  0.27918306,  0.03895301,  0.1943216 ,\n",
       "          0.08291951, -0.04339136, -0.27749088,  0.01076531, -0.27492985,\n",
       "          0.07678542, -0.13778533, -0.08036144,  0.14791104, -0.02719051,\n",
       "          0.03841439,  0.02394992,  0.18866143, -0.18640824,  0.04471922,\n",
       "          0.16045743,  0.22460887, -0.09391357,  0.11995518,  0.02869654,\n",
       "          0.1489529 ,  0.18937927, -0.07729483,  0.12388957,  0.24454167,\n",
       "          0.13726172,  0.09863004,  0.20734525, -0.19783172, -0.16695291,\n",
       "         -0.2309356 , -0.08860488, -0.21028796, -0.06910276, -0.22837786,\n",
       "         -0.2418482 , -0.14242122, -0.0955074 ,  0.01624528,  0.13016999,\n",
       "          0.01168156, -0.07137808,  0.05900195, -0.1549944 ,  0.02147135,\n",
       "          0.27282616, -0.08870853,  0.03274655, -0.00643626],\n",
       "        [-0.02881598,  0.1996696 ,  0.0237872 ,  0.02038956, -0.280932  ,\n",
       "         -0.08220248,  0.0510641 , -0.11271073,  0.19750258, -0.11448891,\n",
       "         -0.21953666, -0.00686637,  0.20486924, -0.13382313,  0.17612198,\n",
       "          0.14805567, -0.20382702,  0.1856943 , -0.07529248,  0.27016994,\n",
       "         -0.0413228 , -0.17902586, -0.16446827,  0.264684  , -0.15491611,\n",
       "          0.20840356, -0.23409218, -0.05580944, -0.10653968, -0.2606407 ,\n",
       "         -0.23335168, -0.01952392, -0.13689607,  0.12109417, -0.25034988,\n",
       "          0.18583679,  0.04884079,  0.05030191, -0.22503263,  0.25991735,\n",
       "         -0.19543117, -0.04667141,  0.08542034, -0.10850851, -0.1964607 ,\n",
       "         -0.06172025, -0.23199137,  0.05886444, -0.27456737, -0.01464957,\n",
       "         -0.27470765, -0.2704084 , -0.19831361,  0.14455682, -0.00727314,\n",
       "         -0.02097598,  0.2502769 ,  0.06527886,  0.13892835, -0.06783687,\n",
       "         -0.27706078, -0.28020683, -0.28140116,  0.14171147],\n",
       "        [ 0.11898953,  0.0537864 , -0.19433501,  0.23827878,  0.05276826,\n",
       "          0.25345007,  0.13409778,  0.16915715,  0.22193256,  0.1608775 ,\n",
       "          0.10751811, -0.15074857,  0.27012017, -0.144076  ,  0.12418965,\n",
       "          0.10848868, -0.12718666,  0.03577763,  0.20303148, -0.21145716,\n",
       "         -0.14184141,  0.03056693,  0.13818064, -0.00479227, -0.1922636 ,\n",
       "         -0.1318932 ,  0.20749307,  0.14665264, -0.18848726,  0.05532938,\n",
       "          0.06136346, -0.11668089, -0.26505798,  0.01440525,  0.02154008,\n",
       "         -0.19318566,  0.10782641,  0.21126038, -0.04736328, -0.20705494,\n",
       "          0.22914591,  0.04810569,  0.26639852,  0.19977856,  0.05480176,\n",
       "         -0.21559125,  0.2281101 ,  0.08034268, -0.02764794,  0.22693172,\n",
       "         -0.20451966, -0.04245274,  0.2552435 ,  0.1698417 ,  0.08296442,\n",
       "         -0.16471468, -0.28256252, -0.23525886,  0.02370292,  0.1389888 ,\n",
       "         -0.13063899,  0.1777015 ,  0.2577395 , -0.1050431 ],\n",
       "        [ 0.00670061,  0.24752042,  0.10110316,  0.11561912,  0.27419314,\n",
       "         -0.08629382,  0.06390581,  0.19023025, -0.1267115 ,  0.08013445,\n",
       "          0.07597181,  0.24814227, -0.05837542,  0.04833218, -0.02606449,\n",
       "          0.22877446, -0.09150985,  0.25530472,  0.2139202 ,  0.10616481,\n",
       "          0.23172209, -0.14059016, -0.1451108 ,  0.04923487,  0.07820797,\n",
       "          0.11506912,  0.24743065, -0.16908325,  0.25071833,  0.16140085,\n",
       "          0.11000657, -0.12855929, -0.02027303, -0.23300013,  0.0931575 ,\n",
       "         -0.08618815, -0.12363236,  0.17216921,  0.12420925, -0.24424613,\n",
       "          0.02320188, -0.17109153, -0.17038131,  0.14755982, -0.15435363,\n",
       "          0.27177665,  0.08917046,  0.15794879, -0.09931956, -0.10170777,\n",
       "          0.07516333, -0.274091  ,  0.07074878, -0.00937185,  0.02865642,\n",
       "         -0.12435135, -0.06196626,  0.26098618,  0.21219146,  0.12768775,\n",
       "          0.05634406, -0.2791489 ,  0.1999535 ,  0.0740999 ],\n",
       "        [-0.18905702, -0.18900226, -0.25559524,  0.0126957 ,  0.15628093,\n",
       "         -0.15437305, -0.22876103,  0.10999128,  0.23388234, -0.2183457 ,\n",
       "          0.14871001, -0.2480365 , -0.12128663,  0.11431661,  0.24317518,\n",
       "         -0.04619193,  0.19263059,  0.19751382,  0.04622301,  0.03433532,\n",
       "         -0.24321282, -0.17979468, -0.03607427, -0.27197674, -0.02328739,\n",
       "          0.16212639,  0.16776773,  0.0757851 , -0.25681648,  0.18868834,\n",
       "          0.22140327,  0.12096262,  0.01858771,  0.09464923,  0.25758925,\n",
       "          0.1303716 , -0.11015144,  0.05176267, -0.15235959,  0.09161553,\n",
       "          0.12640312,  0.20081788, -0.27137285, -0.04835498,  0.04120728,\n",
       "          0.07763991, -0.15566827,  0.2136386 , -0.10516603,  0.12034422,\n",
       "         -0.23570521,  0.01631811,  0.25563183, -0.18341425, -0.03005543,\n",
       "         -0.05691038,  0.13224372,  0.21443507,  0.18777683,  0.2695898 ,\n",
       "          0.21807405,  0.03957036, -0.04207531,  0.05395317],\n",
       "        [-0.07768601,  0.09015906, -0.08497432, -0.23135607,  0.21740898,\n",
       "          0.07853112, -0.13932076, -0.24513909, -0.16342363, -0.21516931,\n",
       "          0.06615046, -0.10335298,  0.27533188,  0.04469475, -0.20485622,\n",
       "          0.06856787,  0.09083167,  0.2669792 , -0.05449784,  0.06633234,\n",
       "          0.09409794, -0.01550627,  0.04436129,  0.10436308, -0.17198686,\n",
       "         -0.26423067,  0.2796438 ,  0.00918686, -0.02860549,  0.16465056,\n",
       "         -0.20499203, -0.05050293, -0.17615205,  0.22801617,  0.03159901,\n",
       "          0.14161023,  0.16133752, -0.24354918,  0.19460261,  0.02467197,\n",
       "         -0.13649793,  0.20024353,  0.06669986,  0.07405424,  0.10300642,\n",
       "         -0.04156058, -0.04837602,  0.17410487, -0.15256937,  0.05399099,\n",
       "          0.24910101,  0.06598666, -0.06381856, -0.15185483, -0.15339114,\n",
       "         -0.05401507, -0.25991645,  0.11425012, -0.20683065,  0.25049624,\n",
       "         -0.16717559, -0.18121399, -0.27675563,  0.16526285],\n",
       "        [-0.22896239, -0.20995215, -0.20577839,  0.19586658,  0.2350615 ,\n",
       "          0.21625751,  0.03224942,  0.16841033,  0.25583795,  0.2587298 ,\n",
       "          0.1619797 ,  0.16378456,  0.25460216,  0.05975041, -0.13047445,\n",
       "          0.01316109, -0.26218253, -0.05923554, -0.1706739 , -0.2687886 ,\n",
       "          0.19372141,  0.09930399,  0.14982766, -0.14270897, -0.17150107,\n",
       "         -0.15627715, -0.03885724,  0.00390226, -0.01727837, -0.19430825,\n",
       "         -0.20296426, -0.1027489 , -0.2810197 ,  0.28001252, -0.13365933,\n",
       "          0.09150675,  0.21504104,  0.23389426,  0.21627572, -0.11379096,\n",
       "         -0.20168138, -0.05963254,  0.06934977, -0.19633015,  0.03752318,\n",
       "          0.17457947,  0.13116607,  0.0867213 , -0.18795237, -0.14798178,\n",
       "         -0.06058532,  0.2594382 , -0.24307477,  0.17593396,  0.2447423 ,\n",
       "         -0.04695618,  0.10899514,  0.09977394, -0.1092004 , -0.10211183,\n",
       "          0.2538592 ,  0.1569716 , -0.07733603,  0.21571398],\n",
       "        [-0.06758164,  0.08238158, -0.02829644, -0.14898299, -0.23783219,\n",
       "         -0.00396121,  0.09226802, -0.21630722,  0.12803504,  0.26693246,\n",
       "         -0.27908337,  0.09040871, -0.19165319,  0.26083216, -0.00318375,\n",
       "         -0.14866313,  0.08915746, -0.08528553,  0.21734235, -0.10394809,\n",
       "         -0.15316044, -0.05931303, -0.1636227 ,  0.0400981 , -0.1352781 ,\n",
       "          0.00068742, -0.21593618,  0.2637467 , -0.13714416,  0.07902819,\n",
       "         -0.02058128, -0.08111711,  0.17558539, -0.24420074, -0.12535532,\n",
       "         -0.1784083 , -0.10856125,  0.05788699, -0.16487598,  0.26259783,\n",
       "         -0.02448866,  0.0329707 , -0.23213683, -0.15755424,  0.08089584,\n",
       "         -0.08257385,  0.06760624,  0.23298839, -0.20977741,  0.00180808,\n",
       "         -0.15147208,  0.07014483,  0.04861516,  0.18295604, -0.06385471,\n",
       "          0.09873632, -0.0411766 ,  0.22038189,  0.22455564, -0.24681783,\n",
       "         -0.16821942, -0.1798282 , -0.07319903,  0.23946324],\n",
       "        [ 0.16481227, -0.07308035, -0.23250023, -0.16076083, -0.22045878,\n",
       "         -0.02716097, -0.18230265, -0.24243638, -0.13950823,  0.01495194,\n",
       "          0.0874162 , -0.07735389, -0.00433761,  0.2681218 , -0.03936441,\n",
       "         -0.27165088,  0.21566239,  0.16426942,  0.04924032,  0.2615609 ,\n",
       "          0.00884214, -0.13350786, -0.00038269, -0.04823002,  0.14612651,\n",
       "         -0.1927453 , -0.21029526, -0.01695907,  0.10002255,  0.18670157,\n",
       "         -0.20930174, -0.06566013, -0.0769787 ,  0.12131071,  0.1514492 ,\n",
       "         -0.19692478, -0.2678015 , -0.03759095,  0.23656276,  0.13931707,\n",
       "          0.03604993,  0.27608082, -0.00672361,  0.26389715,  0.18832952,\n",
       "         -0.14198034,  0.07826105,  0.19473863, -0.05702746,  0.20591003,\n",
       "         -0.22685175,  0.22012505,  0.0839591 ,  0.10960507, -0.20865577,\n",
       "          0.19809857,  0.09690163, -0.17229855, -0.14683214,  0.14898169,\n",
       "          0.09465468, -0.11933237,  0.14035535, -0.01610953],\n",
       "        [ 0.12551925, -0.21712068, -0.2566911 , -0.00559959, -0.21222073,\n",
       "         -0.01836625, -0.01363608,  0.14546853,  0.18753311,  0.26106694,\n",
       "          0.16840976, -0.1939801 ,  0.26223412,  0.22867677, -0.22665551,\n",
       "          0.07065153,  0.08540544, -0.27299714, -0.00461248, -0.12670207,\n",
       "          0.24890152, -0.26097357,  0.25458267,  0.17398915, -0.19991775,\n",
       "         -0.07594471,  0.06764281, -0.00676003,  0.14647448,  0.03941986,\n",
       "          0.03699455,  0.26617786, -0.20913348, -0.01112333, -0.24188226,\n",
       "          0.18559119, -0.1264204 ,  0.0463469 , -0.13457347, -0.09648432,\n",
       "         -0.24041952,  0.03342783,  0.11026898,  0.15593296, -0.1768672 ,\n",
       "          0.13734478,  0.01656345, -0.13442627, -0.01757738,  0.27054533,\n",
       "          0.1106849 , -0.0231269 , -0.02485606, -0.17776617, -0.14525564,\n",
       "         -0.17649738, -0.23278366, -0.19778411, -0.0575411 , -0.27365047,\n",
       "         -0.09027687, -0.28117135, -0.22356841, -0.10777381]],\n",
       "       dtype=float32),\n",
       " array([0., 0., 0., 0., 0., 0., 0., 0., 0., 0., 0., 0., 0., 0., 0., 0., 0.,\n",
       "        0., 0., 0., 0., 0., 0., 0., 0., 0., 0., 0., 0., 0., 0., 0., 0., 0.,\n",
       "        0., 0., 0., 0., 0., 0., 0., 0., 0., 0., 0., 0., 0., 0., 0., 0., 0.,\n",
       "        0., 0., 0., 0., 0., 0., 0., 0., 0., 0., 0., 0., 0.], dtype=float32),\n",
       " array([[ 0.18295354,  0.06461108, -0.16747075, ..., -0.14557493,\n",
       "         -0.10050452, -0.19990903],\n",
       "        [-0.23495942,  0.19814116,  0.00031233, ..., -0.21540594,\n",
       "         -0.2334528 , -0.24146342],\n",
       "        [-0.04174608,  0.08300519, -0.23139298, ...,  0.16895562,\n",
       "          0.06777066, -0.00883472],\n",
       "        ...,\n",
       "        [-0.22273421, -0.15884572, -0.24195987, ...,  0.03247619,\n",
       "         -0.06623912, -0.01041877],\n",
       "        [ 0.1506505 , -0.00838959, -0.10948849, ..., -0.17217761,\n",
       "         -0.24026412,  0.11491877],\n",
       "        [ 0.15156114, -0.01798522, -0.0787614 , ..., -0.15576416,\n",
       "         -0.00679976, -0.18130201]], shape=(64, 32), dtype=float32),\n",
       " array([0., 0., 0., 0., 0., 0., 0., 0., 0., 0., 0., 0., 0., 0., 0., 0., 0.,\n",
       "        0., 0., 0., 0., 0., 0., 0., 0., 0., 0., 0., 0., 0., 0., 0.],\n",
       "       dtype=float32),\n",
       " array([[ 0.11357456],\n",
       "        [-0.02240062],\n",
       "        [-0.34663334],\n",
       "        [ 0.09250784],\n",
       "        [ 0.29778028],\n",
       "        [ 0.22663087],\n",
       "        [-0.26755738],\n",
       "        [-0.12191513],\n",
       "        [ 0.09886348],\n",
       "        [-0.06021574],\n",
       "        [ 0.34173214],\n",
       "        [-0.24985486],\n",
       "        [-0.28950357],\n",
       "        [ 0.15396827],\n",
       "        [-0.25526693],\n",
       "        [-0.39027748],\n",
       "        [-0.0282892 ],\n",
       "        [ 0.10908335],\n",
       "        [-0.15071142],\n",
       "        [ 0.274235  ],\n",
       "        [ 0.03730133],\n",
       "        [-0.4204161 ],\n",
       "        [ 0.05625722],\n",
       "        [-0.00216287],\n",
       "        [-0.42294014],\n",
       "        [-0.25217593],\n",
       "        [-0.3736853 ],\n",
       "        [-0.38807923],\n",
       "        [ 0.197074  ],\n",
       "        [ 0.08527106],\n",
       "        [ 0.07227683],\n",
       "        [ 0.09278196]], dtype=float32),\n",
       " array([0.], dtype=float32)]"
      ]
     },
     "execution_count": 13,
     "metadata": {},
     "output_type": "execute_result"
    }
   ],
   "source": [
    "model.get_weights()"
   ]
  },
  {
   "cell_type": "code",
   "execution_count": 14,
   "id": "8dc18594",
   "metadata": {},
   "outputs": [
    {
     "data": {
      "text/html": [
       "<pre style=\"white-space:pre;overflow-x:auto;line-height:normal;font-family:Menlo,'DejaVu Sans Mono',consolas,'Courier New',monospace\"><span style=\"font-weight: bold\">Model: \"sequential\"</span>\n",
       "</pre>\n"
      ],
      "text/plain": [
       "\u001b[1mModel: \"sequential\"\u001b[0m\n"
      ]
     },
     "metadata": {},
     "output_type": "display_data"
    },
    {
     "data": {
      "text/html": [
       "<pre style=\"white-space:pre;overflow-x:auto;line-height:normal;font-family:Menlo,'DejaVu Sans Mono',consolas,'Courier New',monospace\">┏━━━━━━━━━━━━━━━━━━━━━━━━━━━━━━━━━┳━━━━━━━━━━━━━━━━━━━━━━━━┳━━━━━━━━━━━━━━━┓\n",
       "┃<span style=\"font-weight: bold\"> Layer (type)                    </span>┃<span style=\"font-weight: bold\"> Output Shape           </span>┃<span style=\"font-weight: bold\">       Param # </span>┃\n",
       "┡━━━━━━━━━━━━━━━━━━━━━━━━━━━━━━━━━╇━━━━━━━━━━━━━━━━━━━━━━━━╇━━━━━━━━━━━━━━━┩\n",
       "│ dense (<span style=\"color: #0087ff; text-decoration-color: #0087ff\">Dense</span>)                   │ (<span style=\"color: #00d7ff; text-decoration-color: #00d7ff\">None</span>, <span style=\"color: #00af00; text-decoration-color: #00af00\">64</span>)             │           <span style=\"color: #00af00; text-decoration-color: #00af00\">768</span> │\n",
       "├─────────────────────────────────┼────────────────────────┼───────────────┤\n",
       "│ dense_1 (<span style=\"color: #0087ff; text-decoration-color: #0087ff\">Dense</span>)                 │ (<span style=\"color: #00d7ff; text-decoration-color: #00d7ff\">None</span>, <span style=\"color: #00af00; text-decoration-color: #00af00\">32</span>)             │         <span style=\"color: #00af00; text-decoration-color: #00af00\">2,080</span> │\n",
       "├─────────────────────────────────┼────────────────────────┼───────────────┤\n",
       "│ dense_2 (<span style=\"color: #0087ff; text-decoration-color: #0087ff\">Dense</span>)                 │ (<span style=\"color: #00d7ff; text-decoration-color: #00d7ff\">None</span>, <span style=\"color: #00af00; text-decoration-color: #00af00\">1</span>)              │            <span style=\"color: #00af00; text-decoration-color: #00af00\">33</span> │\n",
       "└─────────────────────────────────┴────────────────────────┴───────────────┘\n",
       "</pre>\n"
      ],
      "text/plain": [
       "┏━━━━━━━━━━━━━━━━━━━━━━━━━━━━━━━━━┳━━━━━━━━━━━━━━━━━━━━━━━━┳━━━━━━━━━━━━━━━┓\n",
       "┃\u001b[1m \u001b[0m\u001b[1mLayer (type)                   \u001b[0m\u001b[1m \u001b[0m┃\u001b[1m \u001b[0m\u001b[1mOutput Shape          \u001b[0m\u001b[1m \u001b[0m┃\u001b[1m \u001b[0m\u001b[1m      Param #\u001b[0m\u001b[1m \u001b[0m┃\n",
       "┡━━━━━━━━━━━━━━━━━━━━━━━━━━━━━━━━━╇━━━━━━━━━━━━━━━━━━━━━━━━╇━━━━━━━━━━━━━━━┩\n",
       "│ dense (\u001b[38;5;33mDense\u001b[0m)                   │ (\u001b[38;5;45mNone\u001b[0m, \u001b[38;5;34m64\u001b[0m)             │           \u001b[38;5;34m768\u001b[0m │\n",
       "├─────────────────────────────────┼────────────────────────┼───────────────┤\n",
       "│ dense_1 (\u001b[38;5;33mDense\u001b[0m)                 │ (\u001b[38;5;45mNone\u001b[0m, \u001b[38;5;34m32\u001b[0m)             │         \u001b[38;5;34m2,080\u001b[0m │\n",
       "├─────────────────────────────────┼────────────────────────┼───────────────┤\n",
       "│ dense_2 (\u001b[38;5;33mDense\u001b[0m)                 │ (\u001b[38;5;45mNone\u001b[0m, \u001b[38;5;34m1\u001b[0m)              │            \u001b[38;5;34m33\u001b[0m │\n",
       "└─────────────────────────────────┴────────────────────────┴───────────────┘\n"
      ]
     },
     "metadata": {},
     "output_type": "display_data"
    },
    {
     "data": {
      "text/html": [
       "<pre style=\"white-space:pre;overflow-x:auto;line-height:normal;font-family:Menlo,'DejaVu Sans Mono',consolas,'Courier New',monospace\"><span style=\"font-weight: bold\"> Total params: </span><span style=\"color: #00af00; text-decoration-color: #00af00\">2,881</span> (11.25 KB)\n",
       "</pre>\n"
      ],
      "text/plain": [
       "\u001b[1m Total params: \u001b[0m\u001b[38;5;34m2,881\u001b[0m (11.25 KB)\n"
      ]
     },
     "metadata": {},
     "output_type": "display_data"
    },
    {
     "data": {
      "text/html": [
       "<pre style=\"white-space:pre;overflow-x:auto;line-height:normal;font-family:Menlo,'DejaVu Sans Mono',consolas,'Courier New',monospace\"><span style=\"font-weight: bold\"> Trainable params: </span><span style=\"color: #00af00; text-decoration-color: #00af00\">2,881</span> (11.25 KB)\n",
       "</pre>\n"
      ],
      "text/plain": [
       "\u001b[1m Trainable params: \u001b[0m\u001b[38;5;34m2,881\u001b[0m (11.25 KB)\n"
      ]
     },
     "metadata": {},
     "output_type": "display_data"
    },
    {
     "data": {
      "text/html": [
       "<pre style=\"white-space:pre;overflow-x:auto;line-height:normal;font-family:Menlo,'DejaVu Sans Mono',consolas,'Courier New',monospace\"><span style=\"font-weight: bold\"> Non-trainable params: </span><span style=\"color: #00af00; text-decoration-color: #00af00\">0</span> (0.00 B)\n",
       "</pre>\n"
      ],
      "text/plain": [
       "\u001b[1m Non-trainable params: \u001b[0m\u001b[38;5;34m0\u001b[0m (0.00 B)\n"
      ]
     },
     "metadata": {},
     "output_type": "display_data"
    }
   ],
   "source": [
    "model.summary()"
   ]
  },
  {
   "cell_type": "code",
   "execution_count": 15,
   "id": "fd54530b",
   "metadata": {},
   "outputs": [],
   "source": [
    "## optimizer = 'adam' , 'rmsprop' , 'sgd'\n",
    "from tensorflow.keras.optimizers import Adam, RMSprop, SGD\n",
    "from tensorflow.keras.losses import BinaryCrossentropy, CategoricalCrossentropy, MeanSquaredError\n",
    "\n",
    "## compile the model\n",
    "model.compile(optimizer= Adam(learning_rate = 0.001), loss = BinaryCrossentropy(), metrics = ['accuracy'])"
   ]
  },
  {
   "cell_type": "code",
   "execution_count": 16,
   "id": "4131beea",
   "metadata": {},
   "outputs": [],
   "source": [
    "## setup tensorboard\n",
    "import datetime\n",
    "from tensorflow.keras.callbacks import EarlyStopping, TensorBoard\n",
    "\n",
    "## Set up TensorBoard callback to log training metrics\n",
    "log_dir = \"logs/fit/\" + datetime.datetime.now().strftime(\"%Y%m%d-%H%M%S\")\n",
    "tensorboard_callback = TensorBoard(log_dir = log_dir, histogram_freq = 1)              ## Some histogram diagrams will be created\n"
   ]
  },
  {
   "cell_type": "code",
   "execution_count": 17,
   "id": "34822bb1",
   "metadata": {},
   "outputs": [],
   "source": [
    "## Setup EarlyStopping callback to prevent overfitting\n",
    "## We monitor our loss value on the validation dataset\n",
    "## If the validation loss does not improve for 5 consecutive epochs, training will stop early\n",
    "## The best weights observed during training will be restored\n",
    "\n",
    "early_stopping_callback = EarlyStopping(monitor = 'val_loss', patience = 5, restore_best_weights = True)\n",
    "\n"
   ]
  },
  {
   "cell_type": "code",
   "execution_count": 18,
   "id": "26353174",
   "metadata": {},
   "outputs": [
    {
     "name": "stdout",
     "output_type": "stream",
     "text": [
      "Epoch 1/100\n",
      "\u001b[1m200/200\u001b[0m \u001b[32m━━━━━━━━━━━━━━━━━━━━\u001b[0m\u001b[37m\u001b[0m \u001b[1m1s\u001b[0m 4ms/step - accuracy: 0.8056 - loss: 0.4558 - val_accuracy: 0.8344 - val_loss: 0.4042\n",
      "Epoch 2/100\n",
      "\u001b[1m200/200\u001b[0m \u001b[32m━━━━━━━━━━━━━━━━━━━━\u001b[0m\u001b[37m\u001b[0m \u001b[1m0s\u001b[0m 2ms/step - accuracy: 0.8378 - loss: 0.3962 - val_accuracy: 0.8456 - val_loss: 0.3773\n",
      "Epoch 3/100\n",
      "\u001b[1m200/200\u001b[0m \u001b[32m━━━━━━━━━━━━━━━━━━━━\u001b[0m\u001b[37m\u001b[0m \u001b[1m0s\u001b[0m 2ms/step - accuracy: 0.8519 - loss: 0.3636 - val_accuracy: 0.8475 - val_loss: 0.3574\n",
      "Epoch 4/100\n",
      "\u001b[1m200/200\u001b[0m \u001b[32m━━━━━━━━━━━━━━━━━━━━\u001b[0m\u001b[37m\u001b[0m \u001b[1m0s\u001b[0m 2ms/step - accuracy: 0.8564 - loss: 0.3507 - val_accuracy: 0.8512 - val_loss: 0.3498\n",
      "Epoch 5/100\n",
      "\u001b[1m200/200\u001b[0m \u001b[32m━━━━━━━━━━━━━━━━━━━━\u001b[0m\u001b[37m\u001b[0m \u001b[1m0s\u001b[0m 2ms/step - accuracy: 0.8603 - loss: 0.3439 - val_accuracy: 0.8544 - val_loss: 0.3463\n",
      "Epoch 6/100\n",
      "\u001b[1m200/200\u001b[0m \u001b[32m━━━━━━━━━━━━━━━━━━━━\u001b[0m\u001b[37m\u001b[0m \u001b[1m0s\u001b[0m 2ms/step - accuracy: 0.8597 - loss: 0.3394 - val_accuracy: 0.8500 - val_loss: 0.3507\n",
      "Epoch 7/100\n",
      "\u001b[1m200/200\u001b[0m \u001b[32m━━━━━━━━━━━━━━━━━━━━\u001b[0m\u001b[37m\u001b[0m \u001b[1m0s\u001b[0m 2ms/step - accuracy: 0.8598 - loss: 0.3375 - val_accuracy: 0.8550 - val_loss: 0.3425\n",
      "Epoch 8/100\n",
      "\u001b[1m200/200\u001b[0m \u001b[32m━━━━━━━━━━━━━━━━━━━━\u001b[0m\u001b[37m\u001b[0m \u001b[1m0s\u001b[0m 2ms/step - accuracy: 0.8616 - loss: 0.3364 - val_accuracy: 0.8556 - val_loss: 0.3402\n",
      "Epoch 9/100\n",
      "\u001b[1m200/200\u001b[0m \u001b[32m━━━━━━━━━━━━━━━━━━━━\u001b[0m\u001b[37m\u001b[0m \u001b[1m0s\u001b[0m 2ms/step - accuracy: 0.8648 - loss: 0.3312 - val_accuracy: 0.8531 - val_loss: 0.3400\n",
      "Epoch 10/100\n",
      "\u001b[1m200/200\u001b[0m \u001b[32m━━━━━━━━━━━━━━━━━━━━\u001b[0m\u001b[37m\u001b[0m \u001b[1m0s\u001b[0m 2ms/step - accuracy: 0.8639 - loss: 0.3305 - val_accuracy: 0.8562 - val_loss: 0.3434\n",
      "Epoch 11/100\n",
      "\u001b[1m200/200\u001b[0m \u001b[32m━━━━━━━━━━━━━━━━━━━━\u001b[0m\u001b[37m\u001b[0m \u001b[1m0s\u001b[0m 2ms/step - accuracy: 0.8644 - loss: 0.3287 - val_accuracy: 0.8525 - val_loss: 0.3406\n",
      "Epoch 12/100\n",
      "\u001b[1m200/200\u001b[0m \u001b[32m━━━━━━━━━━━━━━━━━━━━\u001b[0m\u001b[37m\u001b[0m \u001b[1m0s\u001b[0m 2ms/step - accuracy: 0.8645 - loss: 0.3264 - val_accuracy: 0.8569 - val_loss: 0.3494\n",
      "Epoch 13/100\n",
      "\u001b[1m200/200\u001b[0m \u001b[32m━━━━━━━━━━━━━━━━━━━━\u001b[0m\u001b[37m\u001b[0m \u001b[1m0s\u001b[0m 2ms/step - accuracy: 0.8656 - loss: 0.3248 - val_accuracy: 0.8569 - val_loss: 0.3421\n",
      "Epoch 14/100\n",
      "\u001b[1m200/200\u001b[0m \u001b[32m━━━━━━━━━━━━━━━━━━━━\u001b[0m\u001b[37m\u001b[0m \u001b[1m0s\u001b[0m 2ms/step - accuracy: 0.8652 - loss: 0.3233 - val_accuracy: 0.8594 - val_loss: 0.3371\n",
      "Epoch 15/100\n",
      "\u001b[1m200/200\u001b[0m \u001b[32m━━━━━━━━━━━━━━━━━━━━\u001b[0m\u001b[37m\u001b[0m \u001b[1m0s\u001b[0m 2ms/step - accuracy: 0.8691 - loss: 0.3216 - val_accuracy: 0.8569 - val_loss: 0.3417\n",
      "Epoch 16/100\n",
      "\u001b[1m200/200\u001b[0m \u001b[32m━━━━━━━━━━━━━━━━━━━━\u001b[0m\u001b[37m\u001b[0m \u001b[1m0s\u001b[0m 2ms/step - accuracy: 0.8700 - loss: 0.3195 - val_accuracy: 0.8537 - val_loss: 0.3474\n",
      "Epoch 17/100\n",
      "\u001b[1m200/200\u001b[0m \u001b[32m━━━━━━━━━━━━━━━━━━━━\u001b[0m\u001b[37m\u001b[0m \u001b[1m0s\u001b[0m 2ms/step - accuracy: 0.8675 - loss: 0.3179 - val_accuracy: 0.8550 - val_loss: 0.3430\n",
      "Epoch 18/100\n",
      "\u001b[1m200/200\u001b[0m \u001b[32m━━━━━━━━━━━━━━━━━━━━\u001b[0m\u001b[37m\u001b[0m \u001b[1m0s\u001b[0m 2ms/step - accuracy: 0.8716 - loss: 0.3165 - val_accuracy: 0.8562 - val_loss: 0.3406\n",
      "Epoch 19/100\n",
      "\u001b[1m200/200\u001b[0m \u001b[32m━━━━━━━━━━━━━━━━━━━━\u001b[0m\u001b[37m\u001b[0m \u001b[1m0s\u001b[0m 2ms/step - accuracy: 0.8670 - loss: 0.3147 - val_accuracy: 0.8594 - val_loss: 0.3420\n"
     ]
    }
   ],
   "source": [
    "## model training\n",
    "history = model.fit(\n",
    "    X_train_transformed, y_train,\n",
    "    validation_split = 0.2,\n",
    "    epochs = 100,\n",
    "    callbacks = [tensorboard_callback,early_stopping_callback]  ## we can use any one of these callbacks or both\n",
    ")"
   ]
  },
  {
   "cell_type": "code",
   "execution_count": 19,
   "id": "d5b1a6cc",
   "metadata": {},
   "outputs": [],
   "source": [
    "# Load Tensorboard Extension in VS Code and run the following command in terminal to visualize the training metrics\n",
    "%load_ext tensorboard\n",
    "\n"
   ]
  },
  {
   "cell_type": "code",
   "execution_count": 20,
   "id": "f3fc7219",
   "metadata": {},
   "outputs": [
    {
     "data": {
      "text/plain": [
       "Reusing TensorBoard on port 6006 (pid 10700), started 1:21:29 ago. (Use '!kill 10700' to kill it.)"
      ]
     },
     "metadata": {},
     "output_type": "display_data"
    },
    {
     "data": {
      "text/html": [
       "\n",
       "      <iframe id=\"tensorboard-frame-f4252d0e56522f69\" width=\"100%\" height=\"800\" frameborder=\"0\">\n",
       "      </iframe>\n",
       "      <script>\n",
       "        (function() {\n",
       "          const frame = document.getElementById(\"tensorboard-frame-f4252d0e56522f69\");\n",
       "          const url = new URL(\"http://localhost\");\n",
       "          const port = 6006;\n",
       "          if (port) {\n",
       "            url.port = port;\n",
       "          }\n",
       "          frame.src = url;\n",
       "        })();\n",
       "      </script>\n",
       "    "
      ],
      "text/plain": [
       "<IPython.core.display.HTML object>"
      ]
     },
     "metadata": {},
     "output_type": "display_data"
    }
   ],
   "source": [
    "%tensorboard --logdir logs/fit"
   ]
  },
  {
   "cell_type": "code",
   "execution_count": 21,
   "id": "285fd833",
   "metadata": {},
   "outputs": [
    {
     "name": "stdout",
     "output_type": "stream",
     "text": [
      "\u001b[1m63/63\u001b[0m \u001b[32m━━━━━━━━━━━━━━━━━━━━\u001b[0m\u001b[37m\u001b[0m \u001b[1m0s\u001b[0m 937us/step - accuracy: 0.8540 - loss: 0.3423\n"
     ]
    },
    {
     "data": {
      "text/plain": [
       "[0.34225985407829285, 0.8539999723434448]"
      ]
     },
     "execution_count": 21,
     "metadata": {},
     "output_type": "execute_result"
    }
   ],
   "source": [
    "model.evaluate(X_test_transformed, y_test)"
   ]
  },
  {
   "cell_type": "code",
   "execution_count": 22,
   "id": "39e8fcb5",
   "metadata": {},
   "outputs": [
    {
     "name": "stderr",
     "output_type": "stream",
     "text": [
      "WARNING:absl:You are saving your model as an HDF5 file via `model.save()` or `keras.saving.save_model(model)`. This file format is considered legacy. We recommend using instead the native Keras format, e.g. `model.save('my_model.keras')` or `keras.saving.save_model(model, 'my_model.keras')`. \n"
     ]
    }
   ],
   "source": [
    "## save the model\n",
    "model.save('churn_model.h5')"
   ]
  },
  {
   "cell_type": "code",
   "execution_count": 23,
   "id": "7e1bb8a4",
   "metadata": {},
   "outputs": [
    {
     "data": {
      "text/plain": [
       "['Requirement already satisfied: matplotlib in c:\\\\users\\\\rushi\\\\appdata\\\\local\\\\programs\\\\python\\\\python313\\\\lib\\\\site-packages (3.10.5)',\n",
       " 'Requirement already satisfied: contourpy>=1.0.1 in c:\\\\users\\\\rushi\\\\appdata\\\\local\\\\programs\\\\python\\\\python313\\\\lib\\\\site-packages (from matplotlib) (1.3.3)',\n",
       " 'Requirement already satisfied: cycler>=0.10 in c:\\\\users\\\\rushi\\\\appdata\\\\local\\\\programs\\\\python\\\\python313\\\\lib\\\\site-packages (from matplotlib) (0.12.1)',\n",
       " 'Requirement already satisfied: fonttools>=4.22.0 in c:\\\\users\\\\rushi\\\\appdata\\\\local\\\\programs\\\\python\\\\python313\\\\lib\\\\site-packages (from matplotlib) (4.59.1)',\n",
       " 'Requirement already satisfied: kiwisolver>=1.3.1 in c:\\\\users\\\\rushi\\\\appdata\\\\local\\\\programs\\\\python\\\\python313\\\\lib\\\\site-packages (from matplotlib) (1.4.9)',\n",
       " 'Requirement already satisfied: numpy>=1.23 in c:\\\\users\\\\rushi\\\\appdata\\\\local\\\\programs\\\\python\\\\python313\\\\lib\\\\site-packages (from matplotlib) (2.3.2)',\n",
       " 'Requirement already satisfied: packaging>=20.0 in c:\\\\users\\\\rushi\\\\appdata\\\\roaming\\\\python\\\\python313\\\\site-packages (from matplotlib) (25.0)',\n",
       " 'Requirement already satisfied: pillow>=8 in c:\\\\users\\\\rushi\\\\appdata\\\\local\\\\programs\\\\python\\\\python313\\\\lib\\\\site-packages (from matplotlib) (11.3.0)',\n",
       " 'Requirement already satisfied: pyparsing>=2.3.1 in c:\\\\users\\\\rushi\\\\appdata\\\\local\\\\programs\\\\python\\\\python313\\\\lib\\\\site-packages (from matplotlib) (3.2.3)',\n",
       " 'Requirement already satisfied: python-dateutil>=2.7 in c:\\\\users\\\\rushi\\\\appdata\\\\roaming\\\\python\\\\python313\\\\site-packages (from matplotlib) (2.9.0.post0)',\n",
       " 'Requirement already satisfied: six>=1.5 in c:\\\\users\\\\rushi\\\\appdata\\\\roaming\\\\python\\\\python313\\\\site-packages (from python-dateutil>=2.7->matplotlib) (1.17.0)']"
      ]
     },
     "execution_count": 23,
     "metadata": {},
     "output_type": "execute_result"
    }
   ],
   "source": [
    "!!pip install matplotlib"
   ]
  },
  {
   "cell_type": "code",
   "execution_count": 24,
   "id": "b16c3282",
   "metadata": {},
   "outputs": [
    {
     "data": {
      "image/png": "[encoded data removed]",
      "text/plain": [
       "<Figure size 640x480 with 1 Axes>"
      ]
     },
     "metadata": {},
     "output_type": "display_data"
    }
   ],
   "source": [
    "import matplotlib.pyplot as plt\n",
    "\n",
    "# Plot training & validation accuracy values\n",
    "plt.plot(history.history['accuracy'])\n",
    "plt.plot(history.history['val_accuracy'])\n",
    "plt.title('Model accuracy')\n",
    "plt.ylabel('Accuracy')\n",
    "plt.xlabel('Epoch')\n",
    "plt.legend(['Train', 'Validation'], loc='upper left')\n",
    "plt.show()\n"
   ]
  },
  {
   "cell_type": "code",
   "execution_count": 25,
   "id": "76f534c4",
   "metadata": {},
   "outputs": [
    {
     "data": {
      "image/png": "[encoded data removed]",
      "text/plain": [
       "<Figure size 640x480 with 1 Axes>"
      ]
     },
     "metadata": {},
     "output_type": "display_data"
    }
   ],
   "source": [
    "plt.plot(history.history['loss'])\n",
    "plt.plot(history.history['val_loss'])\n",
    "plt.title('Model loss')\n",
    "plt.ylabel('Loss')\n",
    "plt.xlabel('Epoch')\n",
    "plt.legend(['Train', 'Validation'], loc='upper left')\n",
    "plt.show()\n"
   ]
  },
  {
   "cell_type": "code",
   "execution_count": 27,
   "id": "42bf8090",
   "metadata": {},
   "outputs": [],
   "source": [
    "model.save('Churn_model.keras')"
   ]
  },
  {
   "cell_type": "code",
   "execution_count": null,
   "id": "724d9a00",
   "metadata": {},
   "outputs": [],
   "source": []
  }
 ],
 "metadata": {
  "kernelspec": {
   "display_name": "Python 3",
   "language": "python",
   "name": "python3"
  },
  "language_info": {
   "codemirror_mode": {
    "name": "ipython",
    "version": 3
   },
   "file_extension": ".py",
   "mimetype": "text/x-python",
   "name": "python",
   "nbconvert_exporter": "python",
   "pygments_lexer": "ipython3",
   "version": "3.13.7"
  }
 },
 "nbformat": 4,
 "nbformat_minor": 5
}
